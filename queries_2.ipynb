{
 "cells": [
  {
   "cell_type": "code",
   "execution_count": 16,
   "metadata": {},
   "outputs": [
    {
     "data": {
      "text/plain": [
       "'/opt/spark'"
      ]
     },
     "execution_count": 16,
     "metadata": {},
     "output_type": "execute_result"
    }
   ],
   "source": [
    "import findspark\n",
    "import numpy as np\n",
    "\n",
    "findspark.init()\n",
    "findspark.find()\n",
    "\n",
    "# import pyspark\n",
    "# findspark.find()"
   ]
  },
  {
   "cell_type": "code",
   "execution_count": 17,
   "metadata": {},
   "outputs": [],
   "source": [
    "from pyspark import SparkContext, SparkConf\n",
    "from pyspark.sql import SparkSession"
   ]
  },
  {
   "cell_type": "code",
   "execution_count": 18,
   "metadata": {},
   "outputs": [
    {
     "name": "stdout",
     "output_type": "stream",
     "text": [
      "CPU times: user 2.7 ms, sys: 537 µs, total: 3.23 ms\n",
      "Wall time: 367 ms\n"
     ]
    }
   ],
   "source": [
    "%%time\n",
    "\n",
    "#initialization of spark session\n",
    "sk = SparkSession.builder.appName(\"Queries 2 on NBA\").getOrCreate()\n",
    "\n",
    "#load the datasets\n",
    "ds = sk.read.format(\"csv\").option(\"header\", \"true\").load(\"NBA_Data/rs_10-20.csv\")"
   ]
  },
  {
   "cell_type": "code",
   "execution_count": 19,
   "metadata": {},
   "outputs": [
    {
     "name": "stdout",
     "output_type": "stream",
     "text": [
      "root\n",
      " |-- ID: string (nullable = true)\n",
      " |-- TEAM: string (nullable = true)\n",
      " |-- GP: string (nullable = true)\n",
      " |-- W: string (nullable = true)\n",
      " |-- L: string (nullable = true)\n",
      " |-- WIN%: string (nullable = true)\n",
      " |-- MIN: string (nullable = true)\n",
      " |-- PTS: string (nullable = true)\n",
      " |-- FGM: string (nullable = true)\n",
      " |-- FGA: string (nullable = true)\n",
      " |-- FG%: string (nullable = true)\n",
      " |-- 3PM: string (nullable = true)\n",
      " |-- 3PA: string (nullable = true)\n",
      " |-- 3P%: string (nullable = true)\n",
      " |-- FTM: string (nullable = true)\n",
      " |-- FTA: string (nullable = true)\n",
      " |-- FT%: string (nullable = true)\n",
      " |-- OREB: string (nullable = true)\n",
      " |-- DREB: string (nullable = true)\n",
      " |-- REB: string (nullable = true)\n",
      " |-- AST: string (nullable = true)\n",
      " |-- TOV: string (nullable = true)\n",
      " |-- STL: string (nullable = true)\n",
      " |-- BLK: string (nullable = true)\n",
      " |-- BLKA: string (nullable = true)\n",
      " |-- PF: string (nullable = true)\n",
      " |-- PFD: string (nullable = true)\n",
      " |-- +/-: string (nullable = true)\n",
      " |-- SEASN: string (nullable = true)\n",
      "\n"
     ]
    }
   ],
   "source": [
    "#Structure of the dataset\n",
    "ds.printSchema()"
   ]
  },
  {
   "cell_type": "code",
   "execution_count": 20,
   "metadata": {},
   "outputs": [
    {
     "data": {
      "text/plain": [
       "DataFrame[ID: string, TEAM: string, GP: string, W: string, L: string, WIN%: string, MIN: string, PTS: string, FGM: string, FGA: string, FG%: string, 3PM: string, 3PA: string, 3P%: string, FTM: string, FTA: string, FT%: string, OREB: string, DREB: string, REB: string, AST: string, TOV: string, STL: string, BLK: string, BLKA: string, PF: string, PFD: string, +/-: string, SEASN: string]"
      ]
     },
     "execution_count": 20,
     "metadata": {},
     "output_type": "execute_result"
    }
   ],
   "source": [
    "ds"
   ]
  },
  {
   "cell_type": "code",
   "execution_count": 21,
   "metadata": {},
   "outputs": [
    {
     "name": "stdout",
     "output_type": "stream",
     "text": [
      "CPU times: user 5.7 ms, sys: 7.89 ms, total: 13.6 ms\n",
      "Wall time: 391 ms\n"
     ]
    },
    {
     "data": {
      "text/plain": [
       "[('Golden State Warriors', '44', '0.695'),\n",
       " ('New Orleans Pelicans', '43.7', '0.402'),\n",
       " ('Milwaukee Bucks', '43.4', '0.732'),\n",
       " ('Milwaukee Bucks', '43.3', '0.767'),\n",
       " ('Sacramento Kings', '43.2', '0.476'),\n",
       " ('Golden State Warriors', '43.1', '0.817'),\n",
       " ('Golden State Warriors', '42.8', '0.707'),\n",
       " ('New Orleans Pelicans', '42.7', '0.585'),\n",
       " ('Oklahoma City Thunder', '42.6', '0.598'),\n",
       " ('Los Angeles Lakers', '42.6', '0.451'),\n",
       " ('New Orleans Pelicans', '42.6', '0.417'),\n",
       " ('Golden State Warriors', '42.5', '0.89'),\n",
       " ('Memphis Grizzlies', '42.5', '0.466'),\n",
       " ('Portland Trail Blazers', '42.3', '0.646'),\n",
       " ('San Antonio Spurs', '42.3', '0.585'),\n",
       " ('Los Angeles Lakers', '42.3', '0.732'),\n",
       " ('Toronto Raptors', '42.2', '0.707'),\n",
       " ('Portland Trail Blazers', '42.2', '0.473'),\n",
       " ('San Antonio Spurs', '42.2', '0.451'),\n",
       " ('Boston Celtics', '42.1', '0.598'),\n",
       " ('Washington Wizards', '42.1', '0.39'),\n",
       " ('Indiana Pacers', '42.1', '0.616'),\n",
       " ('Denver Nuggets', '42', '0.63'),\n",
       " ('Denver Nuggets', '41.9', '0.659'),\n",
       " ('Dallas Mavericks', '41.7', '0.573')]"
      ]
     },
     "execution_count": 21,
     "metadata": {},
     "output_type": "execute_result"
    }
   ],
   "source": [
    "%%time\n",
    "# Query1 \n",
    "# witch team has the most field GOAL precentage? (and its win%)\n",
    "# first gather all the data \n",
    "rdd = ds.rdd\n",
    "rdd = rdd.map(lambda x: (x[1],x[8], x[5]))\\\n",
    ".sortBy(lambda x: x[1], ascending=False)\n",
    "rdd.take(25)"
   ]
  },
  {
   "cell_type": "code",
   "execution_count": 22,
   "metadata": {},
   "outputs": [
    {
     "name": "stdout",
     "output_type": "stream",
     "text": [
      "CPU times: user 29.4 ms, sys: 743 µs, total: 30.1 ms\n",
      "Wall time: 352 ms\n"
     ]
    },
    {
     "data": {
      "text/plain": [
       "[['Golden State Warriors', 40.76, 6.139],\n",
       " ['New Orleans Pelicans', 40.32857142857143, 3.149],\n",
       " ['LA Clippers', 40.2, 3.046],\n",
       " ['San Antonio Spurs', 39.97, 6.805999999999999],\n",
       " ['Denver Nuggets', 39.779999999999994, 5.426],\n",
       " ['Oklahoma City Thunder', 39.37, 6.422000000000001],\n",
       " ['Washington Wizards', 39.06, 4.394],\n",
       " ['Portland Trail Blazers', 38.88, 5.446000000000001],\n",
       " ['Phoenix Suns', 38.88, 3.8810000000000002],\n",
       " ['Sacramento Kings', 38.79, 3.690000000000001],\n",
       " ['Los Angeles Lakers', 38.75000000000001, 4.584],\n",
       " ['Milwaukee Bucks', 38.75, 4.992999999999999],\n",
       " ['Houston Rockets', 38.61999999999999, 6.151],\n",
       " ['Minnesota Timberwolves', 38.48, 3.703],\n",
       " ['Boston Celtics', 38.42999999999999, 5.74],\n",
       " ['Dallas Mavericks', 38.4, 5.13],\n",
       " ['Toronto Raptors', 38.3, 5.6819999999999995],\n",
       " ['Atlanta Hawks', 38.290000000000006, 4.93],\n",
       " ['Indiana Pacers', 38.18, 5.6850000000000005],\n",
       " ['Philadelphia 76ers', 38.17, 4.205],\n",
       " ['Los Angeles Clippers', 38.160000000000004, 3.057],\n",
       " ['Miami Heat', 38.13, 6.02],\n",
       " ['Brooklyn Nets', 37.9875, 3.437],\n",
       " ['Detroit Pistons', 37.92, 4.11],\n",
       " ['Cleveland Cavaliers', 37.89, 4.342],\n",
       " ['Orlando Magic', 37.89, 4.074],\n",
       " ['Memphis Grizzlies', 37.809999999999995, 5.318],\n",
       " ['New York Knicks', 37.800000000000004, 4.021],\n",
       " ['Charlotte Hornets', 37.78333333333333, 2.6950000000000003],\n",
       " ['Chicago Bulls', 37.68, 5.205000000000001],\n",
       " ['Utah Jazz', 37.6, 5.229],\n",
       " ['New Orleans Hornets', 35.56666666666667, 1.2080000000000002],\n",
       " ['New Jersey Nets', 34.95, 0.626],\n",
       " ['Charlotte Bobcats', 34.724999999999994, 1.3010000000000002]]"
      ]
     },
     "execution_count": 22,
     "metadata": {},
     "output_type": "execute_result"
    }
   ],
   "source": [
    "%%time\n",
    "# Query 2 reduce them\n",
    "rdd = rdd.map(lambda x: (x[0] , [float(x[1]) , float(x[2]) , 1]))\\\n",
    ".reduceByKey(lambda x,y : [x[0] + y[0] , x[1] + y[1],x[2] + y[2]])\\\n",
    ".map(lambda x: [x[0],x[1][0] /x[1][2] ,x[1][1]])\\\n",
    ".sortBy(lambda x: x[1], ascending=False)\n",
    "rdd.collect()"
   ]
  },
  {
   "cell_type": "markdown",
   "metadata": {},
   "source": [
    "# Answering 2 questions.\n",
    " 1. Can be (the best most field GOAL) guarantee to be (the best winner)?'\n",
    " 2. How about be less than average (to be in top 10)?"
   ]
  },
  {
   "cell_type": "code",
   "execution_count": 23,
   "metadata": {},
   "outputs": [
    {
     "name": "stdout",
     "output_type": "stream",
     "text": [
      "max field goal : 40.76\n",
      "its max win percent : 6.139\n",
      "\n",
      "There are some teams which their field goal is less than max field goal\n",
      "So, it doesn't guarantee\n",
      "\n"
     ]
    },
    {
     "data": {
      "text/plain": [
       "[['San Antonio Spurs', 39.97, 6.805999999999999],\n",
       " ['Oklahoma City Thunder', 39.37, 6.422000000000001],\n",
       " ['Houston Rockets', 38.61999999999999, 6.151],\n",
       " ['Golden State Warriors', 40.76, 6.139]]"
      ]
     },
     "execution_count": 23,
     "metadata": {},
     "output_type": "execute_result"
    }
   ],
   "source": [
    "\n",
    "# Query 3\n",
    "# 1. Can be (the best most field GOAL) guarantee to be (the best winner)?\n",
    "max_field_goal_item = rdd.sortBy(lambda x: x[1], ascending=False).take(1)\n",
    "\n",
    "max_field_goal , win_percent = max_field_goal_item[0][1] , max_field_goal_item[0][2]\n",
    "print(\"max field goal : \" + str(max_field_goal) + \"\\n\"\n",
    "      + \"its max win percent : \" + str(win_percent))\n",
    "\n",
    "q1rdd = rdd.filter(lambda x: x[2] >= win_percent)\\\n",
    ".sortBy(lambda x: x[2], ascending=False)\n",
    "\n",
    "\n",
    "if(len(q1rdd.collect()) >0 ):\n",
    "    print(\"\\nThere are some teams which their field goal is less than max field goal\\nSo, it doesn't guarantee\\n\")\n",
    "else:\n",
    "     print(\"\\nIt guarantees\\n\")\n",
    "q1rdd.collect()\n"
   ]
  },
  {
   "cell_type": "code",
   "execution_count": 24,
   "metadata": {},
   "outputs": [
    {
     "name": "stdout",
     "output_type": "stream",
     "text": [
      "mean field goal : 38.30238445378153\n",
      "\n",
      "There are some teams which their field goal is less than mean field goal\n",
      "So it doesn't guarantee\n",
      "\n",
      "[['Miami Heat', 38.13, 6.02], ['Indiana Pacers', 38.18, 5.6850000000000005], ['Toronto Raptors', 38.3, 5.6819999999999995]]\n"
     ]
    }
   ],
   "source": [
    "\n",
    "# Query 4\n",
    "# 2. How about be less than average (to be in top 10)?\n",
    "mean_field_goal = rdd.map(lambda x: x[1]).mean()\n",
    "print(\"mean field goal : \" + str(mean_field_goal))\n",
    "\n",
    "q2rdd = rdd.sortBy(lambda x: x[2], ascending=False)\\\n",
    ".filter(lambda x: x[1] < mean_field_goal)\\\n",
    ".collect()\n",
    "\n",
    "top10 = rdd.sortBy(lambda x: x[2], ascending=False)\\\n",
    ".take(10) #Maybe it guarantees if we decrease the amount of top (for example to change it to 3)\n",
    "\n",
    "higher_than_mean = [higher for higher in top10 if higher in q2rdd]\n",
    "\n",
    "if(len(higher_than_mean) >0 ):\n",
    "    print(\"\\nThere are some teams which their field goal is less than mean field goal\\nSo it doesn't guarantee\\n\")\n",
    "    print(higher_than_mean)\n",
    "else:\n",
    "    print(\"\\nIt guarantees\\n\")\n",
    "    "
   ]
  },
  {
   "cell_type": "code",
   "execution_count": 25,
   "metadata": {},
   "outputs": [
    {
     "name": "stdout",
     "output_type": "stream",
     "text": [
      "CPU times: user 34.7 ms, sys: 235 µs, total: 34.9 ms\n",
      "Wall time: 324 ms\n"
     ]
    },
    {
     "data": {
      "text/plain": [
       "[(\"'10-11'\",\n",
       "  [('1', 'Chicago Bulls', '82', '0.756', '98.6', \"'10-11'\"),\n",
       "   ('2', 'San Antonio Spurs', '82', '0.744', '103.7', \"'10-11'\"),\n",
       "   ('3', 'Miami Heat', '82', '0.707', '102.1', \"'10-11'\"),\n",
       "   ('4', 'Dallas Mavericks', '82', '0.695', '100.2', \"'10-11'\"),\n",
       "   ('4', 'Los Angeles Lakers', '82', '0.695', '101.5', \"'10-11'\"),\n",
       "   ('6', 'Boston Celtics', '82', '0.683', '96.5', \"'10-11'\"),\n",
       "   ('7', 'Oklahoma City Thunder', '82', '0.671', '104.8', \"'10-11'\"),\n",
       "   ('8', 'Orlando Magic', '82', '0.634', '99.2', \"'10-11'\"),\n",
       "   ('9', 'Denver Nuggets', '82', '0.61', '107.5', \"'10-11'\"),\n",
       "   ('10', 'Portland Trail Blazers', '82', '0.585', '96.3', \"'10-11'\"),\n",
       "   ('11', 'Memphis Grizzlies', '82', '0.561', '99.9', \"'10-11'\"),\n",
       "   ('11', 'New Orleans Hornets', '82', '0.561', '94.9', \"'10-11'\"),\n",
       "   ('13', 'Atlanta Hawks', '82', '0.537', '95', \"'10-11'\"),\n",
       "   ('14', 'Houston Rockets', '82', '0.524', '105.9', \"'10-11'\"),\n",
       "   ('15', 'New York Knicks', '82', '0.512', '106.5', \"'10-11'\"),\n",
       "   ('16', 'Philadelphia 76ers', '82', '0.5', '99', \"'10-11'\"),\n",
       "   ('17', 'Phoenix Suns', '82', '0.488', '105', \"'10-11'\"),\n",
       "   ('18', 'Utah Jazz', '82', '0.476', '99.4', \"'10-11'\"),\n",
       "   ('19', 'Indiana Pacers', '82', '0.451', '99.8', \"'10-11'\"),\n",
       "   ('20', 'Golden State Warriors', '82', '0.439', '103.4', \"'10-11'\"),\n",
       "   ('21', 'Milwaukee Bucks', '82', '0.427', '91.9', \"'10-11'\"),\n",
       "   ('22', 'Charlotte Bobcats', '82', '0.415', '93.3', \"'10-11'\"),\n",
       "   ('23', 'Los Angeles Clippers', '82', '0.39', '98.6', \"'10-11'\"),\n",
       "   ('24', 'Detroit Pistons', '82', '0.366', '97', \"'10-11'\"),\n",
       "   ('25', 'New Jersey Nets', '82', '0.293', '94.2', \"'10-11'\"),\n",
       "   ('25', 'Sacramento Kings', '82', '0.293', '99.4', \"'10-11'\"),\n",
       "   ('27', 'Washington Wizards', '82', '0.28', '97.3', \"'10-11'\"),\n",
       "   ('28', 'Toronto Raptors', '82', '0.268', '99.1', \"'10-11'\"),\n",
       "   ('29', 'Cleveland Cavaliers', '82', '0.232', '95.5', \"'10-11'\"),\n",
       "   ('30', 'Minnesota Timberwolves', '82', '0.207', '101.1', \"'10-11'\")]),\n",
       " (\"'11-12'\",\n",
       "  [('1', 'Chicago Bulls', '66', '0.758', '96.3', \"'11-12'\"),\n",
       "   ('1', 'San Antonio Spurs', '66', '0.758', '103.7', \"'11-12'\"),\n",
       "   ('3', 'Oklahoma City Thunder', '66', '0.712', '103.1', \"'11-12'\"),\n",
       "   ('4', 'Miami Heat', '66', '0.697', '98.5', \"'11-12'\"),\n",
       "   ('5', 'Indiana Pacers', '66', '0.636', '97.7', \"'11-12'\"),\n",
       "   ('6', 'Los Angeles Lakers', '66', '0.621', '97.3', \"'11-12'\"),\n",
       "   ('6', 'Memphis Grizzlies', '66', '0.621', '95', \"'11-12'\"),\n",
       "   ('8', 'Atlanta Hawks', '66', '0.606', '96.6', \"'11-12'\"),\n",
       "   ('8', 'Los Angeles Clippers', '66', '0.606', '97.5', \"'11-12'\"),\n",
       "   ('10', 'Boston Celtics', '66', '0.591', '91.8', \"'11-12'\"),\n",
       "   ('11', 'Denver Nuggets', '66', '0.576', '104.1', \"'11-12'\"),\n",
       "   ('12', 'Orlando Magic', '66', '0.561', '94.2', \"'11-12'\"),\n",
       "   ('13', 'Dallas Mavericks', '66', '0.545', '95.8', \"'11-12'\"),\n",
       "   ('13', 'New York Knicks', '66', '0.545', '97.8', \"'11-12'\"),\n",
       "   ('13', 'Utah Jazz', '66', '0.545', '99.7', \"'11-12'\"),\n",
       "   ('16', 'Philadelphia 76ers', '66', '0.53', '93.6', \"'11-12'\"),\n",
       "   ('17', 'Houston Rockets', '66', '0.515', '98.1', \"'11-12'\"),\n",
       "   ('18', 'Phoenix Suns', '66', '0.5', '98.4', \"'11-12'\"),\n",
       "   ('19', 'Milwaukee Bucks', '66', '0.47', '99', \"'11-12'\"),\n",
       "   ('20', 'Portland Trail Blazers', '66', '0.424', '97.2', \"'11-12'\"),\n",
       "   ('21', 'Minnesota Timberwolves', '66', '0.394', '97.9', \"'11-12'\"),\n",
       "   ('22', 'Detroit Pistons', '66', '0.379', '90.9', \"'11-12'\"),\n",
       "   ('23', 'Golden State Warriors', '66', '0.348', '97.8', \"'11-12'\"),\n",
       "   ('23', 'Toronto Raptors', '66', '0.348', '90.7', \"'11-12'\"),\n",
       "   ('25', 'New Jersey Nets', '66', '0.333', '93.1', \"'11-12'\"),\n",
       "   ('25', 'Sacramento Kings', '66', '0.333', '98.8', \"'11-12'\"),\n",
       "   ('27', 'Cleveland Cavaliers', '66', '0.318', '93', \"'11-12'\"),\n",
       "   ('27', 'New Orleans Hornets', '66', '0.318', '89.6', \"'11-12'\"),\n",
       "   ('29', 'Washington Wizards', '66', '0.303', '93.6', \"'11-12'\"),\n",
       "   ('30', 'Charlotte Bobcats', '66', '0.106', '87', \"'11-12'\")]),\n",
       " (\"'12-13'\",\n",
       "  [('1', 'Miami Heat', '82', '0.805', '102.9', \"'12-13'\"),\n",
       "   ('2', 'Oklahoma City Thunder', '82', '0.732', '105.7', \"'12-13'\"),\n",
       "   ('3', 'San Antonio Spurs', '82', '0.707', '103', \"'12-13'\"),\n",
       "   ('4', 'Denver Nuggets', '82', '0.695', '106.1', \"'12-13'\"),\n",
       "   ('5', 'Los Angeles Clippers', '82', '0.683', '101.1', \"'12-13'\"),\n",
       "   ('5', 'Memphis Grizzlies', '82', '0.683', '93.4', \"'12-13'\"),\n",
       "   ('7', 'New York Knicks', '82', '0.659', '100', \"'12-13'\"),\n",
       "   ('8', 'Indiana Pacers', '81', '0.605', '94.7', \"'12-13'\"),\n",
       "   ('9', 'Brooklyn Nets', '82', '0.598', '96.9', \"'12-13'\"),\n",
       "   ('10', 'Golden State Warriors', '82', '0.573', '101.2', \"'12-13'\"),\n",
       "   ('11', 'Chicago Bulls', '82', '0.549', '93.2', \"'12-13'\"),\n",
       "   ('11', 'Houston Rockets', '82', '0.549', '106', \"'12-13'\"),\n",
       "   ('11', 'Los Angeles Lakers', '82', '0.549', '102.2', \"'12-13'\"),\n",
       "   ('14', 'Atlanta Hawks', '82', '0.537', '98', \"'12-13'\"),\n",
       "   ('15', 'Utah Jazz', '82', '0.524', '98', \"'12-13'\"),\n",
       "   ('16', 'Boston Celtics', '81', '0.506', '96.5', \"'12-13'\"),\n",
       "   ('17', 'Dallas Mavericks', '82', '0.5', '101.1', \"'12-13'\"),\n",
       "   ('18', 'Milwaukee Bucks', '82', '0.463', '98.9', \"'12-13'\"),\n",
       "   ('19', 'Philadelphia 76ers', '82', '0.415', '93.2', \"'12-13'\"),\n",
       "   ('19', 'Toronto Raptors', '82', '0.415', '97.2', \"'12-13'\"),\n",
       "   ('21', 'Portland Trail Blazers', '82', '0.402', '97.5', \"'12-13'\"),\n",
       "   ('22', 'Minnesota Timberwolves', '82', '0.378', '95.7', \"'12-13'\"),\n",
       "   ('23', 'Detroit Pistons', '82', '0.354', '94.9', \"'12-13'\"),\n",
       "   ('23', 'Washington Wizards', '82', '0.354', '93.2', \"'12-13'\"),\n",
       "   ('25', 'Sacramento Kings', '82', '0.341', '100.2', \"'12-13'\"),\n",
       "   ('26', 'New Orleans Hornets', '82', '0.329', '94.1', \"'12-13'\"),\n",
       "   ('27', 'Phoenix Suns', '82', '0.305', '95.2', \"'12-13'\"),\n",
       "   ('28', 'Cleveland Cavaliers', '82', '0.293', '96.5', \"'12-13'\"),\n",
       "   ('29', 'Charlotte Bobcats', '82', '0.256', '93.4', \"'12-13'\"),\n",
       "   ('30', 'Orlando Magic', '82', '0.244', '94.1', \"'12-13'\")]),\n",
       " (\"'13-14'\",\n",
       "  [('1', 'San Antonio Spurs', '82', '0.756', '105.4', \"'13-14'\"),\n",
       "   ('2', 'Oklahoma City Thunder', '82', '0.72', '106.2', \"'13-14'\"),\n",
       "   ('3', 'Los Angeles Clippers', '82', '0.695', '107.9', \"'13-14'\"),\n",
       "   ('4', 'Indiana Pacers', '82', '0.683', '96.7', \"'13-14'\"),\n",
       "   ('5', 'Houston Rockets', '82', '0.659', '107.7', \"'13-14'\"),\n",
       "   ('5', 'Miami Heat', '82', '0.659', '102.2', \"'13-14'\"),\n",
       "   ('5', 'Portland Trail Blazers', '82', '0.659', '106.7', \"'13-14'\"),\n",
       "   ('8', 'Golden State Warriors', '82', '0.622', '104.3', \"'13-14'\"),\n",
       "   ('9', 'Memphis Grizzlies', '82', '0.61', '96.1', \"'13-14'\"),\n",
       "   ('10', 'Dallas Mavericks', '82', '0.598', '104.8', \"'13-14'\"),\n",
       "   ('11', 'Chicago Bulls', '82', '0.585', '93.7', \"'13-14'\"),\n",
       "   ('11', 'Phoenix Suns', '82', '0.585', '105.2', \"'13-14'\"),\n",
       "   ('11', 'Toronto Raptors', '82', '0.585', '101.3', \"'13-14'\"),\n",
       "   ('14', 'Brooklyn Nets', '82', '0.537', '98.5', \"'13-14'\"),\n",
       "   ('14', 'Washington Wizards', '82', '0.537', '100.7', \"'13-14'\"),\n",
       "   ('16', 'Charlotte Bobcats', '82', '0.524', '96.9', \"'13-14'\"),\n",
       "   ('17', 'Minnesota Timberwolves', '82', '0.488', '106.9', \"'13-14'\"),\n",
       "   ('18', 'Atlanta Hawks', '82', '0.463', '101', \"'13-14'\"),\n",
       "   ('19', 'New York Knicks', '82', '0.451', '98.6', \"'13-14'\"),\n",
       "   ('20', 'Denver Nuggets', '82', '0.439', '104.4', \"'13-14'\"),\n",
       "   ('21', 'New Orleans Pelicans', '82', '0.415', '99.7', \"'13-14'\"),\n",
       "   ('22', 'Cleveland Cavaliers', '82', '0.402', '98.2', \"'13-14'\"),\n",
       "   ('23', 'Detroit Pistons', '82', '0.354', '101', \"'13-14'\"),\n",
       "   ('24', 'Sacramento Kings', '82', '0.341', '100.5', \"'13-14'\"),\n",
       "   ('25', 'Los Angeles Lakers', '82', '0.329', '103', \"'13-14'\"),\n",
       "   ('26', 'Boston Celtics', '82', '0.305', '96.2', \"'13-14'\"),\n",
       "   ('26', 'Utah Jazz', '82', '0.305', '95', \"'13-14'\"),\n",
       "   ('28', 'Orlando Magic', '82', '0.28', '96.5', \"'13-14'\"),\n",
       "   ('29', 'Philadelphia 76ers', '82', '0.232', '99.5', \"'13-14'\"),\n",
       "   ('30', 'Milwaukee Bucks', '82', '0.183', '95.5', \"'13-14'\")]),\n",
       " (\"'14-15'\",\n",
       "  [('1', 'Golden State Warriors', '82', '0.817', '110', \"'14-15'\"),\n",
       "   ('2', 'Atlanta Hawks', '82', '0.732', '102.5', \"'14-15'\"),\n",
       "   ('3', 'Houston Rockets', '82', '0.683', '103.9', \"'14-15'\"),\n",
       "   ('3', 'Los Angeles Clippers', '82', '0.683', '106.7', \"'14-15'\"),\n",
       "   ('5', 'Memphis Grizzlies', '82', '0.671', '98.3', \"'14-15'\"),\n",
       "   ('5', 'San Antonio Spurs', '82', '0.671', '103.2', \"'14-15'\"),\n",
       "   ('7', 'Cleveland Cavaliers', '82', '0.646', '103.1', \"'14-15'\"),\n",
       "   ('8', 'Portland Trail Blazers', '82', '0.622', '102.8', \"'14-15'\"),\n",
       "   ('9', 'Chicago Bulls', '82', '0.61', '100.8', \"'14-15'\"),\n",
       "   ('9', 'Dallas Mavericks', '82', '0.61', '105.2', \"'14-15'\"),\n",
       "   ('11', 'Toronto Raptors', '82', '0.598', '104', \"'14-15'\"),\n",
       "   ('12', 'Washington Wizards', '82', '0.561', '98.5', \"'14-15'\"),\n",
       "   ('13', 'New Orleans Pelicans', '82', '0.549', '99.4', \"'14-15'\"),\n",
       "   ('13', 'Oklahoma City Thunder', '82', '0.549', '104', \"'14-15'\"),\n",
       "   ('15', 'Milwaukee Bucks', '82', '0.5', '97.8', \"'14-15'\"),\n",
       "   ('16', 'Boston Celtics', '82', '0.488', '101.4', \"'14-15'\"),\n",
       "   ('17', 'Phoenix Suns', '82', '0.476', '102.4', \"'14-15'\"),\n",
       "   ('18', 'Brooklyn Nets', '82', '0.463', '98', \"'14-15'\"),\n",
       "   ('18', 'Indiana Pacers', '82', '0.463', '97.3', \"'14-15'\"),\n",
       "   ('18', 'Utah Jazz', '82', '0.463', '95.1', \"'14-15'\"),\n",
       "   ('21', 'Miami Heat', '82', '0.451', '94.7', \"'14-15'\"),\n",
       "   ('22', 'Charlotte Hornets', '82', '0.402', '94.2', \"'14-15'\"),\n",
       "   ('23', 'Detroit Pistons', '82', '0.39', '98.5', \"'14-15'\"),\n",
       "   ('24', 'Denver Nuggets', '82', '0.366', '101.5', \"'14-15'\"),\n",
       "   ('25', 'Sacramento Kings', '82', '0.354', '101.3', \"'14-15'\"),\n",
       "   ('26', 'Orlando Magic', '82', '0.305', '95.7', \"'14-15'\"),\n",
       "   ('27', 'Los Angeles Lakers', '82', '0.256', '98.5', \"'14-15'\"),\n",
       "   ('28', 'Philadelphia 76ers', '82', '0.22', '92', \"'14-15'\"),\n",
       "   ('29', 'New York Knicks', '82', '0.207', '91.9', \"'14-15'\"),\n",
       "   ('30', 'Minnesota Timberwolves', '82', '0.195', '97.8', \"'14-15'\")]),\n",
       " (\"'15-16'\",\n",
       "  [('1', 'Golden State Warriors', '82', '0.89', '114.9', \"'15-16'\"),\n",
       "   ('2', 'San Antonio Spurs', '82', '0.817', '103.5', \"'15-16'\"),\n",
       "   ('3', 'Cleveland Cavaliers', '82', '0.695', '104.3', \"'15-16'\"),\n",
       "   ('4', 'Toronto Raptors', '82', '0.683', '102.7', \"'15-16'\"),\n",
       "   ('5', 'Oklahoma City Thunder', '82', '0.671', '110.2', \"'15-16'\"),\n",
       "   ('6', 'LA Clippers', '82', '0.646', '104.5', \"'15-16'\"),\n",
       "   ('7', 'Atlanta Hawks', '82', '0.585', '102.8', \"'15-16'\"),\n",
       "   ('7', 'Boston Celtics', '82', '0.585', '105.7', \"'15-16'\"),\n",
       "   ('7', 'Charlotte Hornets', '82', '0.585', '103.4', \"'15-16'\"),\n",
       "   ('7', 'Miami Heat', '82', '0.585', '100', \"'15-16'\"),\n",
       "   ('11', 'Indiana Pacers', '82', '0.549', '102.2', \"'15-16'\"),\n",
       "   ('12', 'Detroit Pistons', '82', '0.537', '102', \"'15-16'\"),\n",
       "   ('12', 'Portland Trail Blazers', '82', '0.537', '105.1', \"'15-16'\"),\n",
       "   ('14', 'Chicago Bulls', '82', '0.512', '101.6', \"'15-16'\"),\n",
       "   ('14', 'Dallas Mavericks', '82', '0.512', '102.3', \"'15-16'\"),\n",
       "   ('14', 'Memphis Grizzlies', '82', '0.512', '99.1', \"'15-16'\"),\n",
       "   ('17', 'Houston Rockets', '82', '0.5', '106.5', \"'15-16'\"),\n",
       "   ('17', 'Washington Wizards', '82', '0.5', '104.1', \"'15-16'\"),\n",
       "   ('19', 'Utah Jazz', '82', '0.488', '97.7', \"'15-16'\"),\n",
       "   ('20', 'Orlando Magic', '82', '0.427', '102.1', \"'15-16'\"),\n",
       "   ('21', 'Denver Nuggets', '82', '0.402', '101.9', \"'15-16'\"),\n",
       "   ('21', 'Milwaukee Bucks', '82', '0.402', '99', \"'15-16'\"),\n",
       "   ('21', 'Sacramento Kings', '82', '0.402', '106.6', \"'15-16'\"),\n",
       "   ('24', 'New York Knicks', '82', '0.39', '98.4', \"'15-16'\"),\n",
       "   ('25', 'New Orleans Pelicans', '82', '0.366', '102.7', \"'15-16'\"),\n",
       "   ('26', 'Minnesota Timberwolves', '82', '0.354', '102.4', \"'15-16'\"),\n",
       "   ('27', 'Phoenix Suns', '82', '0.28', '100.9', \"'15-16'\"),\n",
       "   ('28', 'Brooklyn Nets', '82', '0.256', '98.6', \"'15-16'\"),\n",
       "   ('29', 'Los Angeles Lakers', '82', '0.207', '97.3', \"'15-16'\"),\n",
       "   ('30', 'Philadelphia 76ers', '82', '0.122', '97.4', \"'15-16'\")]),\n",
       " (\"'16-17'\",\n",
       "  [('1', 'Golden State Warriors', '82', '0.817', '115.9', \"'16-17'\"),\n",
       "   ('2', 'San Antonio Spurs', '82', '0.744', '105.3', \"'16-17'\"),\n",
       "   ('3', 'Houston Rockets', '82', '0.671', '115.3', \"'16-17'\"),\n",
       "   ('4', 'Boston Celtics', '82', '0.646', '108', \"'16-17'\"),\n",
       "   ('5', 'Cleveland Cavaliers', '82', '0.622', '110.3', \"'16-17'\"),\n",
       "   ('5', 'LA Clippers', '82', '0.622', '108.7', \"'16-17'\"),\n",
       "   ('5', 'Toronto Raptors', '82', '0.622', '106.9', \"'16-17'\"),\n",
       "   ('5', 'Utah Jazz', '82', '0.622', '100.7', \"'16-17'\"),\n",
       "   ('9', 'Washington Wizards', '82', '0.598', '109.2', \"'16-17'\"),\n",
       "   ('10', 'Oklahoma City Thunder', '82', '0.573', '106.6', \"'16-17'\"),\n",
       "   ('11', 'Atlanta Hawks', '82', '0.524', '103.2', \"'16-17'\"),\n",
       "   ('11', 'Memphis Grizzlies', '82', '0.524', '100.5', \"'16-17'\"),\n",
       "   ('13', 'Indiana Pacers', '82', '0.512', '105.1', \"'16-17'\"),\n",
       "   ('13', 'Milwaukee Bucks', '82', '0.512', '103.6', \"'16-17'\"),\n",
       "   ('15', 'Chicago Bulls', '82', '0.5', '102.9', \"'16-17'\"),\n",
       "   ('15', 'Miami Heat', '82', '0.5', '103.2', \"'16-17'\"),\n",
       "   ('15', 'Portland Trail Blazers', '82', '0.5', '107.9', \"'16-17'\"),\n",
       "   ('18', 'Denver Nuggets', '82', '0.488', '111.7', \"'16-17'\"),\n",
       "   ('19', 'Detroit Pistons', '82', '0.451', '101.3', \"'16-17'\"),\n",
       "   ('20', 'Charlotte Hornets', '82', '0.439', '104.9', \"'16-17'\"),\n",
       "   ('21', 'New Orleans Pelicans', '82', '0.415', '104.3', \"'16-17'\"),\n",
       "   ('22', 'Dallas Mavericks', '82', '0.402', '97.9', \"'16-17'\"),\n",
       "   ('23', 'Sacramento Kings', '82', '0.39', '102.8', \"'16-17'\"),\n",
       "   ('24', 'Minnesota Timberwolves', '82', '0.378', '105.6', \"'16-17'\"),\n",
       "   ('24', 'New York Knicks', '82', '0.378', '104.3', \"'16-17'\"),\n",
       "   ('26', 'Orlando Magic', '82', '0.354', '101.1', \"'16-17'\"),\n",
       "   ('27', 'Philadelphia 76ers', '82', '0.341', '102.4', \"'16-17'\"),\n",
       "   ('28', 'Los Angeles Lakers', '82', '0.317', '104.6', \"'16-17'\"),\n",
       "   ('29', 'Phoenix Suns', '82', '0.293', '107.7', \"'16-17'\"),\n",
       "   ('30', 'Brooklyn Nets', '82', '0.244', '105.8', \"'16-17'\")]),\n",
       " (\"'17-18'\",\n",
       "  [('1', 'Houston Rockets', '82', '0.793', '112.4', \"'17-18'\"),\n",
       "   ('2', 'Toronto Raptors', '82', '0.72', '111.7', \"'17-18'\"),\n",
       "   ('3', 'Golden State Warriors', '82', '0.707', '113.5', \"'17-18'\"),\n",
       "   ('4', 'Boston Celtics', '82', '0.671', '104', \"'17-18'\"),\n",
       "   ('5', 'Philadelphia 76ers', '82', '0.634', '109.8', \"'17-18'\"),\n",
       "   ('6', 'Cleveland Cavaliers', '82', '0.61', '110.9', \"'17-18'\"),\n",
       "   ('7', 'Portland Trail Blazers', '82', '0.598', '105.6', \"'17-18'\"),\n",
       "   ('8', 'Indiana Pacers', '82', '0.585', '105.6', \"'17-18'\"),\n",
       "   ('8', 'New Orleans Pelicans', '82', '0.585', '111.7', \"'17-18'\"),\n",
       "   ('8', 'Oklahoma City Thunder', '82', '0.585', '107.9', \"'17-18'\"),\n",
       "   ('8', 'Utah Jazz', '82', '0.585', '104.1', \"'17-18'\"),\n",
       "   ('12', 'Minnesota Timberwolves', '82', '0.573', '109.5', \"'17-18'\"),\n",
       "   ('12', 'San Antonio Spurs', '82', '0.573', '102.7', \"'17-18'\"),\n",
       "   ('14', 'Denver Nuggets', '82', '0.561', '110', \"'17-18'\"),\n",
       "   ('15', 'Miami Heat', '82', '0.537', '103.4', \"'17-18'\"),\n",
       "   ('15', 'Milwaukee Bucks', '82', '0.537', '106.5', \"'17-18'\"),\n",
       "   ('17', 'Washington Wizards', '82', '0.524', '106.6', \"'17-18'\"),\n",
       "   ('18', 'LA Clippers', '82', '0.512', '109', \"'17-18'\"),\n",
       "   ('19', 'Detroit Pistons', '82', '0.476', '103.8', \"'17-18'\"),\n",
       "   ('20', 'Charlotte Hornets', '82', '0.439', '108.2', \"'17-18'\"),\n",
       "   ('21', 'Los Angeles Lakers', '82', '0.427', '108.1', \"'17-18'\"),\n",
       "   ('22', 'New York Knicks', '82', '0.354', '104.5', \"'17-18'\"),\n",
       "   ('23', 'Brooklyn Nets', '82', '0.341', '106.6', \"'17-18'\"),\n",
       "   ('24', 'Chicago Bulls', '82', '0.329', '102.9', \"'17-18'\"),\n",
       "   ('24', 'Sacramento Kings', '82', '0.329', '98.8', \"'17-18'\"),\n",
       "   ('26', 'Orlando Magic', '82', '0.305', '103.4', \"'17-18'\"),\n",
       "   ('27', 'Atlanta Hawks', '82', '0.293', '103.4', \"'17-18'\"),\n",
       "   ('27', 'Dallas Mavericks', '82', '0.293', '102.3', \"'17-18'\"),\n",
       "   ('29', 'Memphis Grizzlies', '82', '0.268', '99.3', \"'17-18'\"),\n",
       "   ('30', 'Phoenix Suns', '82', '0.256', '103.9', \"'17-18'\")]),\n",
       " (\"'18-19'\",\n",
       "  [('1', 'Milwaukee Bucks', '82', '0.732', '118.1', \"'18-19'\"),\n",
       "   ('2', 'Toronto Raptors', '82', '0.707', '114.4', \"'18-19'\"),\n",
       "   ('3', 'Golden State Warriors', '82', '0.695', '117.7', \"'18-19'\"),\n",
       "   ('4', 'Denver Nuggets', '82', '0.659', '110.7', \"'18-19'\"),\n",
       "   ('5', 'Houston Rockets', '82', '0.646', '113.9', \"'18-19'\"),\n",
       "   ('5', 'Portland Trail Blazers', '82', '0.646', '114.7', \"'18-19'\"),\n",
       "   ('7', 'Philadelphia 76ers', '82', '0.622', '115.2', \"'18-19'\"),\n",
       "   ('8', 'Utah Jazz', '82', '0.61', '111.7', \"'18-19'\"),\n",
       "   ('9', 'Boston Celtics', '82', '0.598', '112.4', \"'18-19'\"),\n",
       "   ('9', 'Oklahoma City Thunder', '82', '0.598', '114.5', \"'18-19'\"),\n",
       "   ('11', 'Indiana Pacers', '82', '0.585', '108', \"'18-19'\"),\n",
       "   ('11', 'LA Clippers', '82', '0.585', '115.1', \"'18-19'\"),\n",
       "   ('11', 'San Antonio Spurs', '82', '0.585', '111.7', \"'18-19'\"),\n",
       "   ('14', 'Brooklyn Nets', '82', '0.512', '112.2', \"'18-19'\"),\n",
       "   ('14', 'Orlando Magic', '82', '0.512', '107.3', \"'18-19'\"),\n",
       "   ('16', 'Detroit Pistons', '82', '0.5', '107', \"'18-19'\"),\n",
       "   ('17', 'Charlotte Hornets', '82', '0.476', '110.7', \"'18-19'\"),\n",
       "   ('17', 'Miami Heat', '82', '0.476', '105.7', \"'18-19'\"),\n",
       "   ('17', 'Sacramento Kings', '82', '0.476', '114.2', \"'18-19'\"),\n",
       "   ('20', 'Los Angeles Lakers', '82', '0.451', '111.8', \"'18-19'\"),\n",
       "   ('21', 'Minnesota Timberwolves', '82', '0.439', '112.5', \"'18-19'\"),\n",
       "   ('22', 'Dallas Mavericks', '82', '0.402', '108.9', \"'18-19'\"),\n",
       "   ('22', 'Memphis Grizzlies', '82', '0.402', '103.5', \"'18-19'\"),\n",
       "   ('22', 'New Orleans Pelicans', '82', '0.402', '115.4', \"'18-19'\"),\n",
       "   ('25', 'Washington Wizards', '82', '0.39', '114', \"'18-19'\"),\n",
       "   ('26', 'Atlanta Hawks', '82', '0.354', '113.3', \"'18-19'\"),\n",
       "   ('27', 'Chicago Bulls', '82', '0.268', '104.9', \"'18-19'\"),\n",
       "   ('28', 'Cleveland Cavaliers', '82', '0.232', '104.5', \"'18-19'\"),\n",
       "   ('28', 'Phoenix Suns', '82', '0.232', '107.5', \"'18-19'\"),\n",
       "   ('30', 'New York Knicks', '82', '0.207', '104.6', \"'18-19'\")]),\n",
       " (\"'19-20'\",\n",
       "  [('1', 'Milwaukee Bucks', '73', '0.767', '118.7', \"'19-20'\"),\n",
       "   ('2', 'Toronto Raptors', '72', '0.736', '112.8', \"'19-20'\"),\n",
       "   ('3', 'Los Angeles Lakers', '71', '0.732', '113.4', \"'19-20'\"),\n",
       "   ('4', 'LA Clippers', '72', '0.681', '116.3', \"'19-20'\"),\n",
       "   ('5', 'Boston Celtics', '72', '0.667', '113.7', \"'19-20'\"),\n",
       "   ('6', 'Denver Nuggets', '73', '0.63', '111.3', \"'19-20'\"),\n",
       "   ('7', 'Indiana Pacers', '73', '0.616', '109.4', \"'19-20'\"),\n",
       "   ('8', 'Houston Rockets', '72', '0.611', '117.8', \"'19-20'\"),\n",
       "   ('8', 'Oklahoma City Thunder', '72', '0.611', '110.4', \"'19-20'\"),\n",
       "   ('8', 'Utah Jazz', '72', '0.611', '111.3', \"'19-20'\"),\n",
       "   ('11', 'Miami Heat', '73', '0.603', '112', \"'19-20'\"),\n",
       "   ('12', 'Philadelphia 76ers', '73', '0.589', '110.7', \"'19-20'\"),\n",
       "   ('13', 'Dallas Mavericks', '75', '0.573', '117', \"'19-20'\"),\n",
       "   ('14', 'Brooklyn Nets', '72', '0.486', '111.8', \"'19-20'\"),\n",
       "   ('15', 'Portland Trail Blazers', '74', '0.473', '115', \"'19-20'\"),\n",
       "   ('16', 'Memphis Grizzlies', '73', '0.466', '112.6', \"'19-20'\"),\n",
       "   ('16', 'Phoenix Suns', '73', '0.466', '113.6', \"'19-20'\"),\n",
       "   ('18', 'Orlando Magic', '73', '0.452', '107.3', \"'19-20'\"),\n",
       "   ('19', 'San Antonio Spurs', '71', '0.451', '114.1', \"'19-20'\"),\n",
       "   ('20', 'Sacramento Kings', '72', '0.431', '110.1', \"'19-20'\"),\n",
       "   ('21', 'New Orleans Pelicans', '72', '0.417', '115.8', \"'19-20'\"),\n",
       "   ('22', 'Charlotte Hornets', '65', '0.354', '102.9', \"'19-20'\"),\n",
       "   ('23', 'Washington Wizards', '72', '0.347', '114.4', \"'19-20'\"),\n",
       "   ('24', 'Chicago Bulls', '65', '0.338', '106.8', \"'19-20'\"),\n",
       "   ('25', 'New York Knicks', '66', '0.318', '105.8', \"'19-20'\"),\n",
       "   ('26', 'Detroit Pistons', '66', '0.303', '107.2', \"'19-20'\"),\n",
       "   ('27', 'Atlanta Hawks', '67', '0.299', '111.8', \"'19-20'\"),\n",
       "   ('28', 'Minnesota Timberwolves', '64', '0.297', '113.3', \"'19-20'\"),\n",
       "   ('29', 'Cleveland Cavaliers', '65', '0.292', '106.9', \"'19-20'\"),\n",
       "   ('30', 'Golden State Warriors', '65', '0.231', '106.3', \"'19-20'\")])]"
      ]
     },
     "execution_count": 25,
     "metadata": {},
     "output_type": "execute_result"
    }
   ],
   "source": [
    "%%time\n",
    "# Query 5\n",
    "# group by data (season)\n",
    "rdd = ds.rdd.cache()\n",
    "rdd = rdd.map(lambda x: (x[0],x[1],x[2],x[5],x[7],x[28]))\\\n",
    ".groupBy(lambda x: x[5])\\\n",
    ".mapValues(list)\n",
    "\n",
    "rdd.collect()"
   ]
  },
  {
   "cell_type": "markdown",
   "metadata": {},
   "source": [
    "# Answering 2 other question.\n",
    "\n",
    "## Which of these 3 options for queries is faster?\n",
    "#### Options \n",
    "( RDD , SQL , DATA FRAME)\n",
    "#### Queries \n",
    "( SORT , SELECT , FILTER)"
   ]
  },
  {
   "cell_type": "markdown",
   "metadata": {},
   "source": [
    "### SORT COMPARISON"
   ]
  },
  {
   "cell_type": "code",
   "execution_count": 78,
   "metadata": {},
   "outputs": [
    {
     "name": "stdout",
     "output_type": "stream",
     "text": [
      "CPU times: user 1.02 ms, sys: 3.79 ms, total: 4.81 ms\n",
      "Wall time: 402 ms\n"
     ]
    }
   ],
   "source": [
    "%%time \n",
    "#RDD SORT\n",
    "ds1 = sk.read.format(\"csv\").option(\"header\", \"true\").load(\"NBA_Data/rs_10-20.csv\")\n",
    "rdd = ds1.rdd\n",
    "rdd = rdd.map(lambda x: (x[1],x[8]))\\\n",
    ".sortBy(lambda x: x[1], ascending=False)"
   ]
  },
  {
   "cell_type": "code",
   "execution_count": 77,
   "metadata": {},
   "outputs": [
    {
     "name": "stdout",
     "output_type": "stream",
     "text": [
      "CPU times: user 3.45 ms, sys: 0 ns, total: 3.45 ms\n",
      "Wall time: 359 ms\n"
     ]
    },
    {
     "data": {
      "text/plain": [
       "DataFrame[TEAM: string, FGM: string]"
      ]
     },
     "execution_count": 77,
     "metadata": {},
     "output_type": "execute_result"
    }
   ],
   "source": [
    "%%time\n",
    "#SQL SORT\n",
    "ds2 = sk.read.format(\"csv\").option(\"header\", \"true\").load(\"NBA_Data/rs_10-20.csv\")\n",
    "ds2.createOrReplaceTempView(\"tbl\")\n",
    "sk.sql(\"\"\"SELECT TEAM, FGM FROM tbl ORDER BY FGM ASC \"\"\")"
   ]
  },
  {
   "cell_type": "code",
   "execution_count": 80,
   "metadata": {},
   "outputs": [
    {
     "name": "stdout",
     "output_type": "stream",
     "text": [
      "CPU times: user 5.33 ms, sys: 1.02 ms, total: 6.35 ms\n",
      "Wall time: 369 ms\n"
     ]
    }
   ],
   "source": [
    "%%time \n",
    "#DATA FRAME SORT\n",
    "ds3 = sk.read.format(\"csv\").option(\"header\", \"true\").load(\"NBA_Data/rs_10-20.csv\")\n",
    "df = ds3\n",
    "df = df.select(\"TEAM\",\"FGM\")\\\n",
    ".orderBy(\"FGM\", ascending=False)"
   ]
  },
  {
   "cell_type": "markdown",
   "metadata": {},
   "source": [
    "### FILTER COMPARISON"
   ]
  },
  {
   "cell_type": "code",
   "execution_count": 97,
   "metadata": {},
   "outputs": [
    {
     "name": "stdout",
     "output_type": "stream",
     "text": [
      "CPU times: user 3.2 ms, sys: 457 µs, total: 3.66 ms\n",
      "Wall time: 288 ms\n"
     ]
    }
   ],
   "source": [
    "%%time\n",
    "#RDD FILTER\n",
    "ds1 = sk.read.format(\"csv\").option(\"header\", \"true\").load(\"NBA_Data/rs_10-20.csv\")\n",
    "rdd = ds1.rdd\n",
    "rdd = rdd.map(lambda x: (x[1],x[8]))\\\n",
    ".filter(lambda x: x[1] >=35)"
   ]
  },
  {
   "cell_type": "code",
   "execution_count": 96,
   "metadata": {},
   "outputs": [
    {
     "name": "stdout",
     "output_type": "stream",
     "text": [
      "CPU times: user 407 µs, sys: 3.65 ms, total: 4.06 ms\n",
      "Wall time: 361 ms\n"
     ]
    },
    {
     "data": {
      "text/plain": [
       "DataFrame[TEAM: string, FGM: string]"
      ]
     },
     "execution_count": 96,
     "metadata": {},
     "output_type": "execute_result"
    }
   ],
   "source": [
    "%%time\n",
    "#SQL FILTER\n",
    "ds2 = sk.read.format(\"csv\").option(\"header\", \"true\").load(\"NBA_Data/rs_10-20.csv\")\n",
    "ds2.createOrReplaceTempView(\"tbl\")\n",
    "sk.sql(\"\"\"SELECT TEAM, FGM FROM tbl WHERE FGM >= 35 \"\"\")"
   ]
  },
  {
   "cell_type": "code",
   "execution_count": 95,
   "metadata": {},
   "outputs": [
    {
     "name": "stdout",
     "output_type": "stream",
     "text": [
      "CPU times: user 0 ns, sys: 7.32 ms, total: 7.32 ms\n",
      "Wall time: 396 ms\n"
     ]
    }
   ],
   "source": [
    "%%time \n",
    "#DATA FRAME FILTER\n",
    "ds3 = sk.read.format(\"csv\").option(\"header\", \"true\").load(\"NBA_Data/rs_10-20.csv\")\n",
    "df = ds3\n",
    "df = df.select(\"TEAM\",\"FGM\")\\\n",
    ".where(\"FGM >= 35\")"
   ]
  }
 ],
 "metadata": {
  "kernelspec": {
   "display_name": "Python 3",
   "language": "python",
   "name": "python3"
  },
  "language_info": {
   "codemirror_mode": {
    "name": "ipython",
    "version": 3
   },
   "file_extension": ".py",
   "mimetype": "text/x-python",
   "name": "python",
   "nbconvert_exporter": "python",
   "pygments_lexer": "ipython3",
   "version": "3.8.5"
  }
 },
 "nbformat": 4,
 "nbformat_minor": 2
}
