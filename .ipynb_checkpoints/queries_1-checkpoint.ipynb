{
 "cells": [
  {
   "cell_type": "code",
   "execution_count": 5,
   "metadata": {},
   "outputs": [
    {
     "data": {
      "text/plain": [
       "'C:\\\\Progra~1\\\\spark-3.0.0-bin-hadoop3.2'"
      ]
     },
     "execution_count": 5,
     "metadata": {},
     "output_type": "execute_result"
    }
   ],
   "source": [
    "import findspark\n",
    "import numpy as np\n",
    "from pyspark import StorageLevel\n",
    "\n",
    "findspark.init()\n",
    "findspark.find()\n",
    "\n",
    "# import pyspark\n",
    "# findspark.find()"
   ]
  },
  {
   "cell_type": "code",
   "execution_count": 6,
   "metadata": {},
   "outputs": [],
   "source": [
    "from pyspark import SparkContext, SparkConf\n",
    "from pyspark.sql import SparkSession\n",
    "\n",
    "# conf = pyspark.SparkConf().setAppName('appName').setMaster('local')\n",
    "# sc = pyspark.SparkContext(conf=conf)\n",
    "# spark = SparkSession(sc)"
   ]
  },
  {
   "cell_type": "code",
   "execution_count": 7,
   "metadata": {},
   "outputs": [
    {
     "name": "stdout",
     "output_type": "stream",
     "text": [
      "Wall time: 315 ms\n"
     ]
    },
    {
     "data": {
      "text/plain": [
       "DataFrame[ID: string, TEAM: string, GP: string, W: string, L: string, WIN%: string, MIN: string, PTS: string, FGM: string, FGA: string, FG%: string, 3PM: string, 3PA: string, 3P%: string, FTM: string, FTA: string, FT%: string, OREB: string, DREB: string, REB: string, AST: string, TOV: string, STL: string, BLK: string, BLKA: string, PF: string, PFD: string, +/-: string, SEASN: string]"
      ]
     },
     "execution_count": 7,
     "metadata": {},
     "output_type": "execute_result"
    }
   ],
   "source": [
    "%%time\n",
    "\n",
    "#initialization of spark session\n",
    "sk = SparkSession.builder.appName(\"RDD_NBA_stats\").getOrCreate()\n",
    "\n",
    "#load the datasets\n",
    "df = sk.read.format(\"csv\").option(\"header\", \"true\").load(\"NBA_Data/rs_10-20.csv\")"
   ]
  },
  {
   "cell_type": "code",
   "execution_count": 10,
   "metadata": {},
   "outputs": [
    {
     "data": {
      "text/plain": [
       "True"
      ]
     },
     "execution_count": 10,
     "metadata": {},
     "output_type": "execute_result"
    }
   ],
   "source": [
    "# persist in memory so I can't load it anymore and redo calculations\n",
    "df.persist(StorageLevel.MEMORY_ONLY)\n",
    "df.is_cached"
   ]
  },
  {
   "cell_type": "code",
   "execution_count": 11,
   "metadata": {},
   "outputs": [
    {
     "name": "stdout",
     "output_type": "stream",
     "text": [
      "root\n",
      " |-- ID: string (nullable = true)\n",
      " |-- TEAM: string (nullable = true)\n",
      " |-- GP: string (nullable = true)\n",
      " |-- W: string (nullable = true)\n",
      " |-- L: string (nullable = true)\n",
      " |-- WIN%: string (nullable = true)\n",
      " |-- MIN: string (nullable = true)\n",
      " |-- PTS: string (nullable = true)\n",
      " |-- FGM: string (nullable = true)\n",
      " |-- FGA: string (nullable = true)\n",
      " |-- FG%: string (nullable = true)\n",
      " |-- 3PM: string (nullable = true)\n",
      " |-- 3PA: string (nullable = true)\n",
      " |-- 3P%: string (nullable = true)\n",
      " |-- FTM: string (nullable = true)\n",
      " |-- FTA: string (nullable = true)\n",
      " |-- FT%: string (nullable = true)\n",
      " |-- OREB: string (nullable = true)\n",
      " |-- DREB: string (nullable = true)\n",
      " |-- REB: string (nullable = true)\n",
      " |-- AST: string (nullable = true)\n",
      " |-- TOV: string (nullable = true)\n",
      " |-- STL: string (nullable = true)\n",
      " |-- BLK: string (nullable = true)\n",
      " |-- BLKA: string (nullable = true)\n",
      " |-- PF: string (nullable = true)\n",
      " |-- PFD: string (nullable = true)\n",
      " |-- +/-: string (nullable = true)\n",
      " |-- SEASN: string (nullable = true)\n",
      "\n"
     ]
    }
   ],
   "source": [
    "#Structure of the dataset\n",
    "df.printSchema()"
   ]
  },
  {
   "cell_type": "code",
   "execution_count": 12,
   "metadata": {},
   "outputs": [
    {
     "data": {
      "text/plain": [
       "DataFrame[ID: string, TEAM: string, GP: string, W: string, L: string, WIN%: string, MIN: string, PTS: string, FGM: string, FGA: string, FG%: string, 3PM: string, 3PA: string, 3P%: string, FTM: string, FTA: string, FT%: string, OREB: string, DREB: string, REB: string, AST: string, TOV: string, STL: string, BLK: string, BLKA: string, PF: string, PFD: string, +/-: string, SEASN: string]"
      ]
     },
     "execution_count": 12,
     "metadata": {},
     "output_type": "execute_result"
    }
   ],
   "source": [
    "df"
   ]
  },
  {
   "cell_type": "code",
   "execution_count": 13,
   "metadata": {},
   "outputs": [
    {
     "name": "stdout",
     "output_type": "stream",
     "text": [
      "Wall time: 1.14 s\n"
     ]
    },
    {
     "data": {
      "text/plain": [
       "[('Golden State Warriors', '0.89'),\n",
       " ('Golden State Warriors', '0.817'),\n",
       " ('San Antonio Spurs', '0.817'),\n",
       " ('Golden State Warriors', '0.817'),\n",
       " ('Miami Heat', '0.805'),\n",
       " ('Houston Rockets', '0.793'),\n",
       " ('Milwaukee Bucks', '0.767'),\n",
       " ('Chicago Bulls', '0.758'),\n",
       " ('San Antonio Spurs', '0.758'),\n",
       " ('Chicago Bulls', '0.756')]"
      ]
     },
     "execution_count": 13,
     "metadata": {},
     "output_type": "execute_result"
    }
   ],
   "source": [
    "%%time\n",
    "# Q1 which is the most winning team in all the decade, based on WIN% (W/GP)?\n",
    "# first gather all the data\n",
    "rdd = df.rdd\n",
    "rdd = rdd.map(lambda x: (x[1],x[5])).sortBy(lambda x: x[1], ascending=False)\n",
    "rdd.take(10)"
   ]
  },
  {
   "cell_type": "code",
   "execution_count": 14,
   "metadata": {},
   "outputs": [
    {
     "name": "stdout",
     "output_type": "stream",
     "text": [
      "Wall time: 1.63 s\n"
     ]
    },
    {
     "data": {
      "text/plain": [
       "[['San Antonio Spurs', 0.6806],\n",
       " ['Oklahoma City Thunder', 0.6422],\n",
       " ['Houston Rockets', 0.6151],\n",
       " ['Golden State Warriors', 0.6139],\n",
       " ['Los Angeles Clippers', 0.6113999999999999],\n",
       " ['LA Clippers', 0.6092],\n",
       " ['Miami Heat', 0.602],\n",
       " ['Boston Celtics', 0.5740000000000001],\n",
       " ['Indiana Pacers', 0.5685],\n",
       " ['Toronto Raptors', 0.5681999999999999]]"
      ]
     },
     "execution_count": 14,
     "metadata": {},
     "output_type": "execute_result"
    }
   ],
   "source": [
    "%%time\n",
    "# then calculate the mean\n",
    "rdd = rdd.map(lambda x: (x[0], [float(x[1]), 1]))\\\n",
    ".reduceByKey(lambda x, y: [x[0] + y[0], x[1] + y[1]])\\\n",
    ".map(lambda x: [x[0], x[1][0] / x[1][1]])\\\n",
    ".sortBy(lambda x: x[1], ascending=False)\n",
    "rdd.take(10)\n",
    "# San Antonio Spurs won in 2013-2014\n",
    "# Oklahoma City Thunder reached finals in 2011-2012 but never won a title"
   ]
  },
  {
   "cell_type": "code",
   "execution_count": 15,
   "metadata": {},
   "outputs": [
    {
     "name": "stdout",
     "output_type": "stream",
     "text": [
      "Wall time: 593 ms\n"
     ]
    },
    {
     "data": {
      "text/plain": [
       "[('Memphis Grizzlies', '99.9'),\n",
       " ('Indiana Pacers', '99.8'),\n",
       " ('Utah Jazz', '99.7'),\n",
       " ('New Orleans Pelicans', '99.7'),\n",
       " ('Philadelphia 76ers', '99.5'),\n",
       " ('Utah Jazz', '99.4'),\n",
       " ('Sacramento Kings', '99.4'),\n",
       " ('New Orleans Pelicans', '99.4'),\n",
       " ('Memphis Grizzlies', '99.3'),\n",
       " ('Orlando Magic', '99.2')]"
      ]
     },
     "execution_count": 15,
     "metadata": {},
     "output_type": "execute_result"
    }
   ],
   "source": [
    "%%time\n",
    "# Q2 is scoring a lot of points important for the winning of a title?\n",
    "# take the ones who scored most points in average in the decade\n",
    "rdd = df.rdd\n",
    "rdd = rdd.map(lambda x: (x[1],x[7])).sortBy(lambda x: x[1], ascending=False)\n",
    "rdd.take(10)"
   ]
  },
  {
   "cell_type": "code",
   "execution_count": 16,
   "metadata": {},
   "outputs": [
    {
     "name": "stdout",
     "output_type": "stream",
     "text": [
      "Wall time: 1.17 s\n"
     ]
    },
    {
     "data": {
      "text/plain": [
       "[['LA Clippers', 110.71999999999998],\n",
       " ['Houston Rockets', 108.75],\n",
       " ['Golden State Warriors', 108.49999999999997],\n",
       " ['Oklahoma City Thunder', 107.34],\n",
       " ['New Orleans Pelicans', 107.00000000000001],\n",
       " ['Denver Nuggets', 106.92],\n",
       " ['San Antonio Spurs', 105.63000000000002],\n",
       " ['Portland Trail Blazers', 104.88000000000002],\n",
       " ['Minnesota Timberwolves', 104.27000000000001],\n",
       " ['Toronto Raptors', 104.08]]"
      ]
     },
     "execution_count": 16,
     "metadata": {},
     "output_type": "execute_result"
    }
   ],
   "source": [
    "%%time\n",
    "# again calculate the mean\n",
    "rdd = rdd.map(lambda x: (x[0], [float(x[1]), 1]))\\\n",
    ".reduceByKey(lambda x, y: [x[0] + y[0], x[1] + y[1]])\\\n",
    ".map(lambda x: [x[0], x[1][0] / x[1][1]])\\\n",
    ".sortBy(lambda x: x[1], ascending=False)\n",
    "rdd.take(10)\n",
    "# LA Clippers haven't yet won a title, neither reached finals\n",
    "# Golden State Warriors won 3 times and 5 times reached finals"
   ]
  },
  {
   "cell_type": "code",
   "execution_count": 17,
   "metadata": {
    "scrolled": true
   },
   "outputs": [
    {
     "name": "stdout",
     "output_type": "stream",
     "text": [
      "Wall time: 578 ms\n"
     ]
    },
    {
     "data": {
      "text/plain": [
       "[('Golden State Warriors', '44'),\n",
       " ('New Orleans Pelicans', '43.7'),\n",
       " ('Milwaukee Bucks', '43.4'),\n",
       " ('Milwaukee Bucks', '43.3'),\n",
       " ('Sacramento Kings', '43.2'),\n",
       " ('Golden State Warriors', '43.1'),\n",
       " ('Golden State Warriors', '42.8'),\n",
       " ('New Orleans Pelicans', '42.7'),\n",
       " ('Oklahoma City Thunder', '42.6'),\n",
       " ('Los Angeles Lakers', '42.6')]"
      ]
     },
     "execution_count": 17,
     "metadata": {},
     "output_type": "execute_result"
    }
   ],
   "source": [
    "%%time\n",
    "# Q3 how the FGM (Field Goals Made) percentage influences the winning of a title? (Compared to the average of those have won a title)\n",
    "rdd = df.rdd.cache()\n",
    "rdd = rdd.map(lambda x: (x[1],x[8])).sortBy(lambda x: x[1], ascending=False)\n",
    "rdd.take(10)"
   ]
  },
  {
   "cell_type": "code",
   "execution_count": 18,
   "metadata": {},
   "outputs": [
    {
     "name": "stdout",
     "output_type": "stream",
     "text": [
      "38.486666666666686\n",
      "Wall time: 583 ms\n"
     ]
    }
   ],
   "source": [
    "%%time\n",
    "# calculate the mean of FGM in all the decade\n",
    "avg_FGM = rdd.map(lambda x: float(x[1])).mean()\n",
    "print(avg_FGM)"
   ]
  },
  {
   "cell_type": "code",
   "execution_count": 19,
   "metadata": {
    "scrolled": true
   },
   "outputs": [
    {
     "name": "stdout",
     "output_type": "stream",
     "text": [
      "root\n",
      " |-- TEAM: string (nullable = true)\n",
      " |-- SEASN: string (nullable = true)\n",
      "\n",
      "Wall time: 808 ms\n"
     ]
    },
    {
     "data": {
      "text/plain": [
       "[[('Toronto Raptors', \"'18-19'\"), ''],\n",
       " [('San Antonio Spurs', \"'13-14'\"), ''],\n",
       " [('Miami Heat', \"'12-13'\"), ''],\n",
       " [('Miami Heat', \"'11-12'\"), ''],\n",
       " [('Los Angeles Lakers', \"'19-20'\"), ''],\n",
       " [('Golden State Warriors', \"'17-18'\"), ''],\n",
       " [('Golden State Warriors', \"'16-17'\"), ''],\n",
       " [('Golden State Warriors', \"'14-15'\"), ''],\n",
       " [('Dallas Mavericks', \"'10-11'\"), ''],\n",
       " [('Cleveland Cavaliers', \"'15-16'\"), '']]"
      ]
     },
     "execution_count": 19,
     "metadata": {},
     "output_type": "execute_result"
    }
   ],
   "source": [
    "%%time\n",
    "# join with the winners\n",
    "# import the winners and partition according to the key [TEAM, SEASON]\n",
    "df_w = sk.read.format(\"csv\").option(\"header\", \"true\").load(\"NBA_Data/winners_10-20.csv\")\n",
    "df_w.printSchema()\n",
    "rdd_w = df_w.rdd.cache()\n",
    "rdd_w = rdd_w.map(lambda x: [(x[0],x[1]), \"\"]).sortBy(lambda x: x[0], ascending=False)\n",
    "rdd_w.collect()"
   ]
  },
  {
   "cell_type": "code",
   "execution_count": 20,
   "metadata": {
    "scrolled": true
   },
   "outputs": [
    {
     "data": {
      "text/plain": [
       "[[('Atlanta Hawks', \"'10-11'\"), '36.2'],\n",
       " [('Atlanta Hawks', \"'11-12'\"), '36.8'],\n",
       " [('Atlanta Hawks', \"'12-13'\"), '37.6'],\n",
       " [('Atlanta Hawks', \"'13-14'\"), '37.3'],\n",
       " [('Atlanta Hawks', \"'14-15'\"), '38.1'],\n",
       " [('Atlanta Hawks', \"'15-16'\"), '38.6'],\n",
       " [('Atlanta Hawks', \"'16-17'\"), '38.1'],\n",
       " [('Atlanta Hawks', \"'17-18'\"), '38.2'],\n",
       " [('Atlanta Hawks', \"'18-19'\"), '41.4'],\n",
       " [('Atlanta Hawks', \"'19-20'\"), '40.6']]"
      ]
     },
     "execution_count": 20,
     "metadata": {},
     "output_type": "execute_result"
    }
   ],
   "source": [
    "# select again all the teams and their FGM percentage\n",
    "rdd = df.rdd.cache()\n",
    "rdd = rdd.map(lambda x: [(x[1], x[28]), x[8]]).sortBy(lambda x: x[0], ascending=True)\n",
    "rdd.take(10)"
   ]
  },
  {
   "cell_type": "code",
   "execution_count": 21,
   "metadata": {
    "scrolled": true
   },
   "outputs": [],
   "source": [
    "# join with the winners\n",
    "rdd_m = rdd.join(rdd_w)"
   ]
  },
  {
   "cell_type": "code",
   "execution_count": 22,
   "metadata": {
    "scrolled": false
   },
   "outputs": [
    {
     "name": "stdout",
     "output_type": "stream",
     "text": [
      "40.42\n",
      "3.73777777777771\n"
     ]
    }
   ],
   "source": [
    "# calculate the mean of FGM for the winners\n",
    "avg_FGM_winners = rdd_m.map(lambda x: float(x[1][0])).mean()\n",
    "print(avg_FGM_winners)\n",
    "print(np.linalg.norm(avg_FGM - avg_FGM_winners)**2)\n",
    "# the teams that won the title are quite far from the mean FGM percentage"
   ]
  },
  {
   "cell_type": "code",
   "execution_count": 23,
   "metadata": {
    "scrolled": true
   },
   "outputs": [
    {
     "data": {
      "text/plain": [
       "[['Golden State Warriors', 40.76],\n",
       " ['New Orleans Pelicans', 40.32857142857143],\n",
       " ['LA Clippers', 40.2],\n",
       " ['San Antonio Spurs', 39.97],\n",
       " ['Denver Nuggets', 39.779999999999994],\n",
       " ['Oklahoma City Thunder', 39.37],\n",
       " ['Washington Wizards', 39.06],\n",
       " ['Portland Trail Blazers', 38.88],\n",
       " ['Phoenix Suns', 38.88],\n",
       " ['Sacramento Kings', 38.79]]"
      ]
     },
     "execution_count": 23,
     "metadata": {},
     "output_type": "execute_result"
    }
   ],
   "source": [
    "# Q4 how the mean of FGM for the winners is near to the mean of the team who has the best FGM percentage?\n",
    "# calculate the best mean of FGM in all the decade\n",
    "rdd = df.rdd.cache()\n",
    "rdd = rdd.map(lambda x: (x[1],x[8])).sortBy(lambda x: x[1], ascending=False)\n",
    "rdd = rdd.map(lambda x: (x[0], [float(x[1]), 1]))\\\n",
    ".reduceByKey(lambda x, y: [x[0] + y[0], x[1] + y[1]])\\\n",
    ".map(lambda x: [x[0], x[1][0] / x[1][1]])\\\n",
    ".sortBy(lambda x: x[1], ascending=False)\n",
    "rdd.take(10)"
   ]
  },
  {
   "cell_type": "code",
   "execution_count": 24,
   "metadata": {},
   "outputs": [
    {
     "name": "stdout",
     "output_type": "stream",
     "text": [
      "40.76\n",
      "0.11559999999999748\n"
     ]
    }
   ],
   "source": [
    "best_avg_FGM = rdd.first()[1]\n",
    "print(best_avg_FGM)\n",
    "print(np.linalg.norm(best_avg_FGM - avg_FGM_winners)**2)\n",
    "# the team that has done the better FGM percentage is very close to the mean of those who won the title\n",
    "# New Orleans Pelicans never won a title, neither LA Clippers\n",
    "# San Antonio Spurs won once"
   ]
  },
  {
   "cell_type": "code",
   "execution_count": null,
   "metadata": {},
   "outputs": [],
   "source": []
  },
  {
   "cell_type": "code",
   "execution_count": 1,
   "metadata": {},
   "outputs": [],
   "source": []
  },
  {
   "cell_type": "code",
   "execution_count": null,
   "metadata": {},
   "outputs": [],
   "source": []
  }
 ],
 "metadata": {
  "kernelspec": {
   "display_name": "Python 3",
   "language": "python",
   "name": "python3"
  },
  "language_info": {
   "codemirror_mode": {
    "name": "ipython",
    "version": 3
   },
   "file_extension": ".py",
   "mimetype": "text/x-python",
   "name": "python",
   "nbconvert_exporter": "python",
   "pygments_lexer": "ipython3",
   "version": "3.7.6"
  }
 },
 "nbformat": 4,
 "nbformat_minor": 2
}
